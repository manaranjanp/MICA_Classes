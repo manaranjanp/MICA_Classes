{
 "cells": [
  {
   "cell_type": "markdown",
   "metadata": {},
   "source": [
    "# Introduction"
   ]
  },
  {
   "cell_type": "markdown",
   "metadata": {},
   "source": [
    "German credit rating dataset is provided by Prof. Hofmann, contains categorical/symbolic attributes of the persons who availed the credit and the current status of the credit (at the time when the dataset is prepared). The status of the credit is indicated by 1 for good credits and 2 for bad credits.  We have changed the values to 0 and 1 i.e. 0 for good credit and 1 for bad credit, for this exercise.\n",
    "\n",
    "The detailed description of variables can be found at the following link.\n",
    "\n",
    "https://archive.ics.uci.edu/ml/datasets/Statlog+%28German+Credit+Data%29"
   ]
  },
  {
   "cell_type": "markdown",
   "metadata": {},
   "source": [
    "| Variable | Variable Type| Description | Categories | \n",
    "| :----------| :-------------- |:--------------| :--------------|\n",
    "|checkin_acc| categorical | Status of existing checking account | <ul><li> A11 : ... < 0 DM </li><li> A12 : 0 <= ... < 200 DM </li><li> A13 : ... >= 200 DM / salary assignments for at least 1 year </li><li> A14 : no checking account </li></ul>|\n",
    "|duration| numerical | Duration | |\n",
    "|credit_history| categorical | Credit History | <ul><li>A30 : no credits taken/ all credits paid back duly </li><li>A31 : all credits at this bank paid back duly </li><li>A32 : existing credits paid back duly till now </li><li>A33 : delay in paying off in the past </li><li>A34 : critical account/ other credits existing (not at this bank) </li></ul>|\n",
    "|amount| numerical | Credit amount | |\n",
    "|savings_acc| Categorical | Savings account/bonds | <ul><li>A61 : ... < 100 DM </li><li>A62 : 100 <= ... < 500 DM </li><li>A63 : 500 <= ... < 1000 DM </li><li>A64 : .. >= 1000 DM </li><li>A65 : unknown/ no savings account </li></ul>|\n",
    "|present_emp_since| Categorical | Present employment since | <ul><li>A71 : unemployed </li><li>A72 : ... < 1 year </li><li>A73 : 1 <= ... < 4 years </li><li>A74 : 4 <= ... < 7 years </li><li>A75 : .. >= 7 years </li></ul>|\n",
    "|inst_rate| numerical | Installment rate in percentage of disposable income  | |\n",
    "|personal_status| Categorical | Personal status and sex | <ul><li>A91 : male : divorced/separated </li><li>A92 : female : divorced/separated/married </li><li>A93 : male : single </li><li>A94 : male : married/widowed </li><li>A95 : female : single </li></ul>|\n",
    "|residing_since| numerical | residing since in years | |\n",
    "|age| numerical | age in years | |\n",
    "|inst_plans| categorical | Other installment plans | <ul><li>A141 : bank </li><li>A142 : stores </li><li>A143 : none </li></ul> |\n",
    "|num_credits| Categorical | Number of existing credits at this bank | <ul><li> A11 : ... < 0 DM </li><li> A12 : 0 <= ... < 200 DM </li><li> A13 : ... >= 200 DM / salary assignments for at least 1 year </li><li> A14 : no checking account </li></ul>|\n",
    "|job| categorical | job | <ul><li>A171 : unemployed/ unskilled - non-resident </li><li>A172 : unskilled - resident </li><li>A173 : skilled employee / official </li> <li>A174 : management/ self-employed/highly qualified employee/ officer </li> </ul> |\n",
    "|status| categorical | Credit status | <ul><li> 0: Good Credit </li><li> 1: Bad Credit </li></ul>|"
   ]
  },
  {
   "cell_type": "markdown",
   "metadata": {},
   "source": [
    "## Loading the dataset"
   ]
  },
  {
   "cell_type": "code",
   "execution_count": null,
   "metadata": {},
   "outputs": [],
   "source": [
    "import pandas as pd\n",
    "import numpy as np\n",
    "import seaborn as sn\n",
    "import random"
   ]
  },
  {
   "cell_type": "code",
   "execution_count": null,
   "metadata": {},
   "outputs": [],
   "source": [
    "random_state = 100\n",
    "np.random.seed(100)\n",
    "random.seed(100)"
   ]
  },
  {
   "cell_type": "code",
   "execution_count": null,
   "metadata": {},
   "outputs": [],
   "source": [
    "credit_df = pd.read_csv( \"https://raw.githubusercontent.com/manaranjanp/MICA_Classes/main/cases/German_Credit_Data.csv\" )"
   ]
  },
  {
   "cell_type": "code",
   "execution_count": null,
   "metadata": {},
   "outputs": [],
   "source": [
    "credit_df.head()"
   ]
  },
  {
   "cell_type": "code",
   "execution_count": null,
   "metadata": {},
   "outputs": [],
   "source": [
    "credit_df.columns"
   ]
  },
  {
   "cell_type": "code",
   "execution_count": null,
   "metadata": {},
   "outputs": [],
   "source": [
    "credit_df.info();"
   ]
  },
  {
   "cell_type": "markdown",
   "metadata": {},
   "source": [
    "### Distribution of Good and Bad Credits"
   ]
  },
  {
   "cell_type": "code",
   "execution_count": null,
   "metadata": {},
   "outputs": [],
   "source": [
    "credit_df.status.value_counts()"
   ]
  },
  {
   "cell_type": "code",
   "execution_count": null,
   "metadata": {},
   "outputs": [],
   "source": [
    "sn.countplot( data = credit_df,\n",
    "              x = 'status' );"
   ]
  },
  {
   "cell_type": "markdown",
   "metadata": {},
   "source": [
    "There are about 300 defaults and 700 non-default observations"
   ]
  },
  {
   "cell_type": "markdown",
   "metadata": {},
   "source": [
    "## Creating Dummy Features"
   ]
  },
  {
   "cell_type": "code",
   "execution_count": null,
   "metadata": {},
   "outputs": [],
   "source": [
    "credit_df.columns"
   ]
  },
  {
   "cell_type": "code",
   "execution_count": null,
   "metadata": {},
   "outputs": [],
   "source": [
    "list( credit_df.columns )"
   ]
  },
  {
   "cell_type": "markdown",
   "metadata": {},
   "source": [
    "## Selecting Features"
   ]
  },
  {
   "cell_type": "code",
   "execution_count": null,
   "metadata": {},
   "outputs": [],
   "source": [
    "X_features = list( credit_df.columns )\n",
    "X_features.remove( 'status' )\n",
    "X_features"
   ]
  },
  {
   "cell_type": "code",
   "execution_count": null,
   "metadata": {},
   "outputs": [],
   "source": [
    "encoded_credit_df = pd.get_dummies( credit_df[X_features], drop_first = True )"
   ]
  },
  {
   "cell_type": "code",
   "execution_count": null,
   "metadata": {},
   "outputs": [],
   "source": [
    "encoded_credit_df.columns"
   ]
  },
  {
   "cell_type": "markdown",
   "metadata": {},
   "source": [
    "### Set the Response Variable and Independent Variables"
   ]
  },
  {
   "cell_type": "code",
   "execution_count": null,
   "metadata": {},
   "outputs": [],
   "source": [
    "Y = credit_df.status\n",
    "X = encoded_credit_df"
   ]
  },
  {
   "cell_type": "markdown",
   "metadata": {},
   "source": [
    "## Splitting Datasets into Train and Test Sets"
   ]
  },
  {
   "cell_type": "code",
   "execution_count": null,
   "metadata": {},
   "outputs": [],
   "source": [
    "from sklearn.model_selection import train_test_split\n",
    "\n",
    "X_train, X_test, y_train, y_test = train_test_split( X, Y, \n",
    "                                                    test_size = 0.3, \n",
    "                                                    random_state = 42 )"
   ]
  },
  {
   "cell_type": "code",
   "execution_count": null,
   "metadata": {},
   "outputs": [],
   "source": [
    "X_train[0:2]"
   ]
  },
  {
   "cell_type": "markdown",
   "metadata": {},
   "source": [
    "# Logistic Regression Model"
   ]
  },
  {
   "cell_type": "code",
   "execution_count": null,
   "metadata": {},
   "outputs": [],
   "source": [
    "from sklearn.linear_model import LogisticRegression"
   ]
  },
  {
   "cell_type": "code",
   "execution_count": null,
   "metadata": {},
   "outputs": [],
   "source": [
    "logreg_v1 = LogisticRegression(random_state=100, max_iter=1000)"
   ]
  },
  {
   "cell_type": "code",
   "execution_count": null,
   "metadata": {},
   "outputs": [],
   "source": [
    "logreg_v1.fit( X_train, y_train )"
   ]
  },
  {
   "cell_type": "markdown",
   "metadata": {},
   "source": [
    "## Predict Test Data and Measure Accuracy"
   ]
  },
  {
   "cell_type": "markdown",
   "metadata": {},
   "source": [
    "### Assuming default if probability is more than 0.5 "
   ]
  },
  {
   "cell_type": "code",
   "execution_count": null,
   "metadata": {},
   "outputs": [],
   "source": [
    "y_preds = logreg_v1.predict( X_test )"
   ]
  },
  {
   "cell_type": "code",
   "execution_count": null,
   "metadata": {},
   "outputs": [],
   "source": [
    "y_preds[0:10]"
   ]
  },
  {
   "cell_type": "code",
   "execution_count": null,
   "metadata": {},
   "outputs": [],
   "source": [
    "y_pred_df = pd.DataFrame( {\"actual\": y_test, \"predicted\" : y_preds } )"
   ]
  },
  {
   "cell_type": "code",
   "execution_count": null,
   "metadata": {},
   "outputs": [],
   "source": [
    "y_pred_df[0:10]"
   ]
  },
  {
   "cell_type": "markdown",
   "metadata": {},
   "source": [
    "## Build a Confusion Matrix\n",
    "\n",
    "Note: Discuss the importance of FPs and FNs"
   ]
  },
  {
   "cell_type": "code",
   "execution_count": null,
   "metadata": {},
   "outputs": [],
   "source": [
    "import matplotlib.pylab as plt\n",
    "import seaborn as sn\n",
    "from sklearn.metrics import ConfusionMatrixDisplay, confusion_matrix"
   ]
  },
  {
   "cell_type": "code",
   "execution_count": null,
   "metadata": {},
   "outputs": [],
   "source": [
    "cm = confusion_matrix(y_pred_df.actual, y_pred_df.predicted, labels= [1, 0])\n",
    "cm"
   ]
  },
  {
   "cell_type": "code",
   "execution_count": null,
   "metadata": {},
   "outputs": [],
   "source": [
    "cm_plot = ConfusionMatrixDisplay(confusion_matrix=cm, \n",
    "                                 display_labels=['Bad Credit', 'Good Credit'])\n",
    "cm_plot.plot();"
   ]
  },
  {
   "cell_type": "markdown",
   "metadata": {},
   "source": [
    "### Overall accuracy of the model"
   ]
  },
  {
   "cell_type": "code",
   "execution_count": null,
   "metadata": {},
   "outputs": [],
   "source": [
    "from sklearn.metrics import classification_report"
   ]
  },
  {
   "cell_type": "code",
   "execution_count": null,
   "metadata": {},
   "outputs": [],
   "source": [
    "print(classification_report(y_pred_df.actual, y_pred_df.predicted))"
   ]
  },
  {
   "cell_type": "markdown",
   "metadata": {},
   "source": [
    "## Dealing with imbalnce data: Class Weights\n",
    "\n",
    "Note: Discuss the loss function for the logistic regression"
   ]
  },
  {
   "cell_type": "code",
   "execution_count": null,
   "metadata": {},
   "outputs": [],
   "source": [
    "from sklearn.utils.class_weight import compute_class_weight"
   ]
  },
  {
   "cell_type": "code",
   "execution_count": null,
   "metadata": {},
   "outputs": [],
   "source": [
    "class_weights = compute_class_weight(class_weight= 'balanced', \n",
    "                                     classes = np.unique(y_train),\n",
    "                                     y = y_train)"
   ]
  },
  {
   "cell_type": "code",
   "execution_count": null,
   "metadata": {},
   "outputs": [],
   "source": [
    "class_weights"
   ]
  },
  {
   "cell_type": "code",
   "execution_count": null,
   "metadata": {},
   "outputs": [],
   "source": [
    "class_weights_dict = dict(zip(np.unique(X_train), class_weights))\n",
    "class_weights_dict"
   ]
  },
  {
   "cell_type": "code",
   "execution_count": null,
   "metadata": {},
   "outputs": [],
   "source": [
    "balanced_logreg_v2 = LogisticRegression(random_state=100, max_iter=1000, class_weight=class_weights_dict)"
   ]
  },
  {
   "cell_type": "code",
   "execution_count": null,
   "metadata": {},
   "outputs": [],
   "source": [
    "balanced_logreg_v2.fit(X_train, y_train)"
   ]
  },
  {
   "cell_type": "code",
   "execution_count": null,
   "metadata": {},
   "outputs": [],
   "source": [
    "y_pred_v2 = balanced_logreg_v2.predict(X_test)"
   ]
  },
  {
   "cell_type": "code",
   "execution_count": null,
   "metadata": {},
   "outputs": [],
   "source": [
    "cm_v2 = confusion_matrix(y_test, y_pred_v2, labels= [1, 0])"
   ]
  },
  {
   "cell_type": "code",
   "execution_count": null,
   "metadata": {},
   "outputs": [],
   "source": [
    "cm_plot = ConfusionMatrixDisplay(confusion_matrix=cm_v2, \n",
    "                                 display_labels=['Bad Credit', 'Good Credit'])\n",
    "cm_plot.plot();"
   ]
  },
  {
   "cell_type": "code",
   "execution_count": null,
   "metadata": {},
   "outputs": [],
   "source": [
    "print(classification_report(y_test, y_pred_v2))"
   ]
  },
  {
   "cell_type": "markdown",
   "metadata": {},
   "source": [
    "# Decision Tree Model"
   ]
  },
  {
   "cell_type": "code",
   "execution_count": null,
   "metadata": {},
   "outputs": [],
   "source": [
    "from sklearn.tree import DecisionTreeClassifier"
   ]
  },
  {
   "cell_type": "code",
   "execution_count": null,
   "metadata": {},
   "outputs": [],
   "source": [
    "tree_clf = DecisionTreeClassifier(max_depth=5, \n",
    "                                  criterion='gini', \n",
    "                                  class_weight=class_weights_dict)"
   ]
  },
  {
   "cell_type": "code",
   "execution_count": null,
   "metadata": {},
   "outputs": [],
   "source": [
    "tree_clf.fit(X_train, y_train)"
   ]
  },
  {
   "cell_type": "code",
   "execution_count": null,
   "metadata": {},
   "outputs": [],
   "source": [
    "y_pred_dtrees = tree_clf.predict(X_test)"
   ]
  },
  {
   "cell_type": "code",
   "execution_count": null,
   "metadata": {},
   "outputs": [],
   "source": [
    "cm_tree = confusion_matrix(y_test, y_pred_dtrees, labels=[1, 0])"
   ]
  },
  {
   "cell_type": "code",
   "execution_count": null,
   "metadata": {},
   "outputs": [],
   "source": [
    "cm_tree"
   ]
  },
  {
   "cell_type": "code",
   "execution_count": null,
   "metadata": {},
   "outputs": [],
   "source": [
    "print(classification_report(y_test, y_pred_dtrees))"
   ]
  },
  {
   "cell_type": "code",
   "execution_count": null,
   "metadata": {},
   "outputs": [],
   "source": [
    "from sklearn.tree import plot_tree"
   ]
  },
  {
   "cell_type": "code",
   "execution_count": null,
   "metadata": {},
   "outputs": [],
   "source": [
    "plt.figure(figsize = (50, 12))\n",
    "plot_tree(tree_clf,\n",
    "          feature_names = X_test.columns,\n",
    "          class_names = ['Good Credit', 'Bad Credit'],\n",
    "          filled = True,\n",
    "          max_depth=3,\n",
    "          fontsize = 10);\n",
    "plt.savefig('tree.png')"
   ]
  },
  {
   "cell_type": "markdown",
   "metadata": {},
   "source": [
    "## Participant Exercise:\n",
    "\n",
    "1. Increase the max_depth to 7 and check if it gives better recall value.\n",
    "2. Set criteria to gini and verify if it gives better recall value."
   ]
  },
  {
   "cell_type": "markdown",
   "metadata": {},
   "source": [
    "## Explain the concept of underfitting and overfitting"
   ]
  },
  {
   "cell_type": "markdown",
   "metadata": {},
   "source": [
    "### Feature Importance"
   ]
  },
  {
   "cell_type": "code",
   "execution_count": null,
   "metadata": {},
   "outputs": [],
   "source": [
    "tree_clf.feature_importances_"
   ]
  },
  {
   "cell_type": "code",
   "execution_count": null,
   "metadata": {},
   "outputs": [],
   "source": [
    "feature_imp_df = pd.DataFrame({'features': X_train.columns,\n",
    "                               'importance': tree_clf.feature_importances_})"
   ]
  },
  {
   "cell_type": "code",
   "execution_count": null,
   "metadata": {},
   "outputs": [],
   "source": [
    "feature_imp_df = feature_imp_df.sort_values(\"importance\", ascending = False)\n",
    "feature_imp_df"
   ]
  },
  {
   "cell_type": "code",
   "execution_count": null,
   "metadata": {},
   "outputs": [],
   "source": [
    "feature_imp_df[0:10]"
   ]
  },
  {
   "cell_type": "markdown",
   "metadata": {},
   "source": [
    "| Variable | Variable Type| Description | Categories | \n",
    "| :----------| :-------------- |:--------------| :--------------|\n",
    "|checkin_acc| categorical | Status of existing checking account | <ul><li> A11 : ... < 0 DM </li><li> A12 : 0 <= ... < 200 DM </li><li> A13 : ... >= 200 DM / salary assignments for at least 1 year </li><li> A14 : no checking account </li></ul>|\n",
    "|duration| numerical | Duration | |\n",
    "|credit_history| categorical | Credit History | <ul><li>A30 : no credits taken/ all credits paid back duly </li><li>A31 : all credits at this bank paid back duly </li><li>A32 : existing credits paid back duly till now </li><li>A33 : delay in paying off in the past </li><li>A34 : critical account/ other credits existing (not at this bank) </li></ul>|\n",
    "|amount| numerical | Credit amount | |\n",
    "|savings_acc| Categorical | Savings account/bonds | <ul><li>A61 : ... < 100 DM </li><li>A62 : 100 <= ... < 500 DM </li><li>A63 : 500 <= ... < 1000 DM </li><li>A64 : .. >= 1000 DM </li><li>A65 : unknown/ no savings account </li></ul>|\n",
    "|present_emp_since| Categorical | Present employment since | <ul><li>A71 : unemployed </li><li>A72 : ... < 1 year </li><li>A73 : 1 <= ... < 4 years </li><li>A74 : 4 <= ... < 7 years </li><li>A75 : .. >= 7 years </li></ul>|\n",
    "|inst_rate| numerical | Installment rate in percentage of disposable income  | |\n",
    "|personal_status| Categorical | Personal status and sex | <ul><li>A91 : male : divorced/separated </li><li>A92 : female : divorced/separated/married </li><li>A93 : male : single </li><li>A94 : male : married/widowed </li><li>A95 : female : single </li></ul>|\n",
    "|residing_since| numerical | residing since in years | |\n",
    "|age| numerical | age in years | |\n",
    "|inst_plans| categorical | Other installment plans | <ul><li>A141 : bank </li><li>A142 : stores </li><li>A143 : none </li></ul> |\n",
    "|num_credits| Categorical | Number of existing credits at this bank | <ul><li> A11 : ... < 0 DM </li><li> A12 : 0 <= ... < 200 DM </li><li> A13 : ... >= 200 DM / salary assignments for at least 1 year </li><li> A14 : no checking account </li></ul>|\n",
    "|job| categorical | job | <ul><li>A171 : unemployed/ unskilled - non-resident </li><li>A172 : unskilled - resident </li><li>A173 : skilled employee / official </li> <li>A174 : management/ self-employed/highly qualified employee/ officer </li> </ul> |\n",
    "|status| categorical | Credit status | <ul><li> 0: Good Credit </li><li> 1: Bad Credit </li></ul>|"
   ]
  },
  {
   "cell_type": "markdown",
   "metadata": {},
   "source": [
    "## Finding Optimal Cutoff Probability for Bad Credits"
   ]
  },
  {
   "cell_type": "markdown",
   "metadata": {},
   "source": [
    "### Find optimal cutoff probability using cost "
   ]
  },
  {
   "cell_type": "code",
   "execution_count": null,
   "metadata": {},
   "outputs": [],
   "source": [
    "tree_clf.predict_proba(X_test)[0:10]"
   ]
  },
  {
   "cell_type": "code",
   "execution_count": null,
   "metadata": {},
   "outputs": [],
   "source": [
    "y_pred_tree_df = pd.DataFrame( { \"actual\": y_test,\n",
    "                                 \"predicted\": y_pred_dtrees } )"
   ]
  },
  {
   "cell_type": "code",
   "execution_count": null,
   "metadata": {},
   "outputs": [],
   "source": [
    "y_pred_tree_df['pred_probs'] = tree_clf.predict_proba(X_test)[:, 1]"
   ]
  },
  {
   "cell_type": "code",
   "execution_count": null,
   "metadata": {},
   "outputs": [],
   "source": [
    "y_pred_tree_df.sample(10)"
   ]
  },
  {
   "cell_type": "code",
   "execution_count": null,
   "metadata": {},
   "outputs": [],
   "source": [
    "y_pred_tree_df['predicted_new'] = y_pred_tree_df.pred_probs.map(lambda x: 1 if x > 0.5 else 0)"
   ]
  },
  {
   "cell_type": "code",
   "execution_count": null,
   "metadata": {},
   "outputs": [],
   "source": [
    "cm_1 = confusion_matrix( y_pred_tree_df.actual, y_pred_tree_df.predicted_new, labels = [1,0] )"
   ]
  },
  {
   "cell_type": "code",
   "execution_count": null,
   "metadata": {},
   "outputs": [],
   "source": [
    "cm_1"
   ]
  },
  {
   "cell_type": "code",
   "execution_count": null,
   "metadata": {},
   "outputs": [],
   "source": [
    "cm_1[1, 0] # false positives"
   ]
  },
  {
   "cell_type": "code",
   "execution_count": null,
   "metadata": {},
   "outputs": [],
   "source": [
    "cm_1[0, 1] # false negatives"
   ]
  },
  {
   "cell_type": "code",
   "execution_count": null,
   "metadata": {},
   "outputs": [],
   "source": [
    "def get_total_cost( actual, predicted ):\n",
    "    cm_mat = confusion_matrix( actual, predicted, labels = [1,0] )\n",
    "    return cm_mat[0,1] * 3 + cm_mat[1,0] * 1"
   ]
  },
  {
   "cell_type": "code",
   "execution_count": null,
   "metadata": {},
   "outputs": [],
   "source": [
    "get_total_cost( y_pred_tree_df.actual, y_pred_tree_df.predicted_new )"
   ]
  },
  {
   "cell_type": "code",
   "execution_count": null,
   "metadata": {},
   "outputs": [],
   "source": [
    "cost_df = pd.DataFrame( columns = ['prob', 'cost'])"
   ]
  },
  {
   "cell_type": "code",
   "execution_count": null,
   "metadata": {},
   "outputs": [],
   "source": [
    "cutoff_probs = np.arange(0, 1, 0.05)"
   ]
  },
  {
   "cell_type": "code",
   "execution_count": null,
   "metadata": {},
   "outputs": [],
   "source": [
    "idx = 0\n",
    "for cutoff in cutoff_probs:\n",
    "    cost = get_total_cost(y_pred_tree_df.actual, \n",
    "                          y_pred_tree_df.pred_probs.map(lambda x: 1 if x > cutoff  else 0))\n",
    "    cost_df.loc[idx] = [cutoff, cost]\n",
    "    idx += 1"
   ]
  },
  {
   "cell_type": "code",
   "execution_count": null,
   "metadata": {},
   "outputs": [],
   "source": [
    "cost_df.sort_values( 'cost', ascending = True )[0:5]"
   ]
  },
  {
   "cell_type": "code",
   "execution_count": null,
   "metadata": {},
   "outputs": [],
   "source": [
    "y_pred_tree_df['predicted_final'] = y_pred_tree_df.pred_probs.map( lambda x: 1 if x > 0.45 else 0)"
   ]
  },
  {
   "cell_type": "code",
   "execution_count": null,
   "metadata": {},
   "outputs": [],
   "source": [
    "cm_tree_v2 = confusion_matrix(y_pred_tree_df.actual, \n",
    "                              y_pred_tree_df.predicted_final, labels= [1, 0])"
   ]
  },
  {
   "cell_type": "code",
   "execution_count": null,
   "metadata": {},
   "outputs": [],
   "source": [
    "cm_plot = ConfusionMatrixDisplay(confusion_matrix=cm_tree_v2, \n",
    "                                 display_labels=['Bad Credit', \n",
    "                                                 'Good Credit'])\n",
    "cm_plot.plot();"
   ]
  },
  {
   "cell_type": "code",
   "execution_count": null,
   "metadata": {},
   "outputs": [],
   "source": [
    "print(classification_report(y_pred_tree_df.actual, y_pred_tree_df.predicted_final))"
   ]
  }
 ],
 "metadata": {
  "anaconda-cloud": {},
  "kernelspec": {
   "display_name": "Python 3 (ipykernel)",
   "language": "python",
   "name": "python3"
  },
  "language_info": {
   "codemirror_mode": {
    "name": "ipython",
    "version": 3
   },
   "file_extension": ".py",
   "mimetype": "text/x-python",
   "name": "python",
   "nbconvert_exporter": "python",
   "pygments_lexer": "ipython3",
   "version": "3.10.9"
  }
 },
 "nbformat": 4,
 "nbformat_minor": 1
}
