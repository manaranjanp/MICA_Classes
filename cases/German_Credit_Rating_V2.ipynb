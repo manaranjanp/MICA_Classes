{
  "cells": [
    {
      "cell_type": "markdown",
      "metadata": {
        "id": "rf_PLq1Kfo2f"
      },
      "source": [
        "# Introduction"
      ]
    },
    {
      "cell_type": "markdown",
      "metadata": {
        "id": "V6eDnw1qfo2g"
      },
      "source": [
        "German credit rating dataset is provided by Prof. Hofmann, contains categorical/symbolic attributes of the persons who availed the credit and the current status of the credit (at the time when the dataset is prepared). The status of the credit is indicated by 1 for good credits and 2 for bad credits.  We have changed the values to 0 and 1 i.e. 0 for good credit and 1 for bad credit, for this exercise.\n",
        "\n",
        "The detailed description of variables can be found at the following link.\n",
        "\n",
        "https://archive.ics.uci.edu/ml/datasets/Statlog+%28German+Credit+Data%29"
      ]
    },
    {
      "cell_type": "markdown",
      "metadata": {
        "id": "7QHPNv20fo2g"
      },
      "source": [
        "| Variable | Variable Type| Description | Categories |\n",
        "| :----------| :-------------- |:--------------| :--------------|\n",
        "|checkin_acc| categorical | Status of existing checking account | <ul><li> A11 : ... < 0 DM </li><li> A12 : 0 <= ... < 200 DM </li><li> A13 : ... >= 200 DM / salary assignments for at least 1 year </li><li> A14 : no checking account </li></ul>|\n",
        "|duration| numerical | Duration | |\n",
        "|credit_history| categorical | Credit History | <ul><li>A30 : no credits taken/ all credits paid back duly </li><li>A31 : all credits at this bank paid back duly </li><li>A32 : existing credits paid back duly till now </li><li>A33 : delay in paying off in the past </li><li>A34 : critical account/ other credits existing (not at this bank) </li></ul>|\n",
        "|amount| numerical | Credit amount | |\n",
        "|savings_acc| Categorical | Savings account/bonds | <ul><li>A61 : ... < 100 DM </li><li>A62 : 100 <= ... < 500 DM </li><li>A63 : 500 <= ... < 1000 DM </li><li>A64 : .. >= 1000 DM </li><li>A65 : unknown/ no savings account </li></ul>|\n",
        "|present_emp_since| Categorical | Present employment since | <ul><li>A71 : unemployed </li><li>A72 : ... < 1 year </li><li>A73 : 1 <= ... < 4 years </li><li>A74 : 4 <= ... < 7 years </li><li>A75 : .. >= 7 years </li></ul>|\n",
        "|inst_rate| numerical | Installment rate in percentage of disposable income  | |\n",
        "|personal_status| Categorical | Personal status and sex | <ul><li>A91 : male : divorced/separated </li><li>A92 : female : divorced/separated/married </li><li>A93 : male : single </li><li>A94 : male : married/widowed </li><li>A95 : female : single </li></ul>|\n",
        "|residing_since| numerical | residing since in years | |\n",
        "|age| numerical | age in years | |\n",
        "|inst_plans| categorical | Other installment plans | <ul><li>A141 : bank </li><li>A142 : stores </li><li>A143 : none </li></ul> |\n",
        "|num_credits| Categorical | Number of existing credits at this bank | <ul><li> A11 : ... < 0 DM </li><li> A12 : 0 <= ... < 200 DM </li><li> A13 : ... >= 200 DM / salary assignments for at least 1 year </li><li> A14 : no checking account </li></ul>|\n",
        "|job| categorical | job | <ul><li>A171 : unemployed/ unskilled - non-resident </li><li>A172 : unskilled - resident </li><li>A173 : skilled employee / official </li> <li>A174 : management/ self-employed/highly qualified employee/ officer </li> </ul> |\n",
        "|status| categorical | Credit status | <ul><li> 0: Good Credit </li><li> 1: Bad Credit </li></ul>|"
      ]
    },
    {
      "cell_type": "markdown",
      "metadata": {
        "id": "7eV7nW_9fo2h"
      },
      "source": [
        "## Loading the dataset"
      ]
    },
    {
      "cell_type": "code",
      "execution_count": null,
      "metadata": {
        "id": "vytWOpvXfo2h"
      },
      "outputs": [],
      "source": [
        "import pandas as pd\n",
        "import numpy as np\n",
        "import seaborn as sn\n",
        "import random"
      ]
    },
    {
      "cell_type": "code",
      "execution_count": null,
      "metadata": {
        "id": "Lod8Peujfo2i"
      },
      "outputs": [],
      "source": [
        "random_state = 100\n",
        "np.random.seed(100)\n",
        "random.seed(100)"
      ]
    },
    {
      "cell_type": "code",
      "execution_count": null,
      "metadata": {
        "id": "OswUmxBNfo2i"
      },
      "outputs": [],
      "source": [
        "credit_df = pd.read_csv( \"https://raw.githubusercontent.com/manaranjanp/MICA_Classes/main/cases/German_Credit_Data.csv\" )"
      ]
    },
    {
      "cell_type": "code",
      "execution_count": null,
      "metadata": {
        "id": "qE9W2Xlzfo2i"
      },
      "outputs": [],
      "source": [
        "credit_df.head()"
      ]
    },
    {
      "cell_type": "code",
      "execution_count": null,
      "metadata": {
        "id": "URtxCA3Kfo2i"
      },
      "outputs": [],
      "source": [
        "credit_df.columns"
      ]
    },
    {
      "cell_type": "code",
      "execution_count": null,
      "metadata": {
        "id": "0eHrG48cfo2i"
      },
      "outputs": [],
      "source": [
        "credit_df.info();"
      ]
    },
    {
      "cell_type": "markdown",
      "metadata": {
        "id": "qxgpnhqafo2j"
      },
      "source": [
        "### Distribution of Good and Bad Credits"
      ]
    },
    {
      "cell_type": "code",
      "execution_count": null,
      "metadata": {
        "id": "CK49eNYxfo2j"
      },
      "outputs": [],
      "source": [
        "credit_df.status.value_counts()"
      ]
    },
    {
      "cell_type": "code",
      "execution_count": null,
      "metadata": {
        "id": "Nj4QaVi3fo2j"
      },
      "outputs": [],
      "source": [
        "sn.countplot( data = credit_df,\n",
        "              x = 'status' );"
      ]
    },
    {
      "cell_type": "markdown",
      "metadata": {
        "id": "bdNXMxcIfo2j"
      },
      "source": [
        "There are about 300 defaults and 700 non-default observations"
      ]
    },
    {
      "cell_type": "markdown",
      "metadata": {
        "id": "83gWYkNbfo2j"
      },
      "source": [
        "## Creating Dummy Features"
      ]
    },
    {
      "cell_type": "code",
      "execution_count": null,
      "metadata": {
        "id": "9PP75VxYfo2j"
      },
      "outputs": [],
      "source": [
        "credit_df.columns"
      ]
    },
    {
      "cell_type": "code",
      "execution_count": null,
      "metadata": {
        "id": "gH0RdtHGfo2j"
      },
      "outputs": [],
      "source": [
        "list( credit_df.columns )"
      ]
    },
    {
      "cell_type": "markdown",
      "metadata": {
        "id": "EcDRin95fo2j"
      },
      "source": [
        "## Selecting Features"
      ]
    },
    {
      "cell_type": "code",
      "execution_count": null,
      "metadata": {
        "id": "6JdOeuUifo2j"
      },
      "outputs": [],
      "source": [
        "X_features = list( credit_df.columns )\n",
        "X_features.remove( 'status' )\n",
        "X_features"
      ]
    },
    {
      "cell_type": "code",
      "execution_count": null,
      "metadata": {
        "id": "EQ0EfgJSfo2j"
      },
      "outputs": [],
      "source": [
        "encoded_credit_df = pd.get_dummies( credit_df[X_features], drop_first = True )"
      ]
    },
    {
      "cell_type": "code",
      "execution_count": null,
      "metadata": {
        "id": "8LUrXPZifo2j"
      },
      "outputs": [],
      "source": [
        "encoded_credit_df.columns"
      ]
    },
    {
      "cell_type": "markdown",
      "metadata": {
        "id": "FRpg8ir_fo2j"
      },
      "source": [
        "### Set the Response Variable and Independent Variables"
      ]
    },
    {
      "cell_type": "code",
      "execution_count": null,
      "metadata": {
        "id": "7pKq1PWpfo2j"
      },
      "outputs": [],
      "source": [
        "Y = credit_df.status\n",
        "X = encoded_credit_df"
      ]
    },
    {
      "cell_type": "markdown",
      "metadata": {
        "id": "mmGl5CS1fo2j"
      },
      "source": [
        "## Splitting Datasets into Train and Test Sets"
      ]
    },
    {
      "cell_type": "code",
      "execution_count": null,
      "metadata": {
        "id": "QLH9fgJSfo2j"
      },
      "outputs": [],
      "source": [
        "from sklearn.model_selection import train_test_split\n",
        "\n",
        "X_train, X_test, y_train, y_test = train_test_split( X, Y,\n",
        "                                                    test_size = 0.3,\n",
        "                                                    random_state = 42 )"
      ]
    },
    {
      "cell_type": "code",
      "execution_count": null,
      "metadata": {
        "id": "3RLX9pqXfo2j"
      },
      "outputs": [],
      "source": [
        "X_train[0:2]"
      ]
    },
    {
      "cell_type": "markdown",
      "metadata": {
        "id": "j0uekumOfo2j"
      },
      "source": [
        "# Logistic Regression Model"
      ]
    },
    {
      "cell_type": "code",
      "execution_count": null,
      "metadata": {
        "id": "ujcJ8AiHfo2j"
      },
      "outputs": [],
      "source": [
        "from sklearn.linear_model import LogisticRegression"
      ]
    },
    {
      "cell_type": "code",
      "execution_count": null,
      "metadata": {
        "id": "6nM13xgofo2j"
      },
      "outputs": [],
      "source": [
        "logreg_v1 = LogisticRegression(random_state=100, max_iter=1000)"
      ]
    },
    {
      "cell_type": "code",
      "execution_count": null,
      "metadata": {
        "id": "2h5-sNuFfo2j"
      },
      "outputs": [],
      "source": [
        "logreg_v1.fit( X_train, y_train )"
      ]
    },
    {
      "cell_type": "markdown",
      "metadata": {
        "id": "UBUW4Iyvfo2j"
      },
      "source": [
        "## Predict Test Data and Measure Accuracy"
      ]
    },
    {
      "cell_type": "markdown",
      "metadata": {
        "id": "WPhM8arpfo2k"
      },
      "source": [
        "### Assuming default if probability is more than 0.5"
      ]
    },
    {
      "cell_type": "code",
      "execution_count": null,
      "metadata": {
        "id": "JEbi-n5ufo2k"
      },
      "outputs": [],
      "source": [
        "y_preds = logreg_v1.predict( X_test )"
      ]
    },
    {
      "cell_type": "code",
      "execution_count": null,
      "metadata": {
        "id": "TAvSRMPyfo2k"
      },
      "outputs": [],
      "source": [
        "y_preds[0:10]"
      ]
    },
    {
      "cell_type": "code",
      "execution_count": null,
      "metadata": {
        "id": "zune97FVfo2k"
      },
      "outputs": [],
      "source": [
        "y_pred_df = pd.DataFrame( {\"actual\": y_test, \"predicted\" : y_preds } )"
      ]
    },
    {
      "cell_type": "code",
      "execution_count": null,
      "metadata": {
        "id": "srLQDj9efo2k"
      },
      "outputs": [],
      "source": [
        "y_pred_df[0:10]"
      ]
    },
    {
      "cell_type": "markdown",
      "metadata": {
        "id": "ddPjDRQmfo2k"
      },
      "source": [
        "## Build a Confusion Matrix\n",
        "\n",
        "Note: Discuss the importance of FPs and FNs"
      ]
    },
    {
      "cell_type": "code",
      "execution_count": null,
      "metadata": {
        "id": "i6DCONQzfo2k"
      },
      "outputs": [],
      "source": [
        "import matplotlib.pylab as plt\n",
        "import seaborn as sn\n",
        "from sklearn.metrics import ConfusionMatrixDisplay, confusion_matrix"
      ]
    },
    {
      "cell_type": "code",
      "execution_count": null,
      "metadata": {
        "id": "WfpLBaNffo2k"
      },
      "outputs": [],
      "source": [
        "cm = confusion_matrix(y_pred_df.actual, y_pred_df.predicted, labels= [1, 0])\n",
        "cm"
      ]
    },
    {
      "cell_type": "code",
      "execution_count": null,
      "metadata": {
        "id": "qUyf96mjfo2o"
      },
      "outputs": [],
      "source": [
        "cm_plot = ConfusionMatrixDisplay(confusion_matrix=cm,\n",
        "                                 display_labels=['Bad Credit', 'Good Credit'])\n",
        "cm_plot.plot();"
      ]
    },
    {
      "cell_type": "markdown",
      "metadata": {
        "id": "pEB5vq1yfo2o"
      },
      "source": [
        "### Overall accuracy of the model"
      ]
    },
    {
      "cell_type": "code",
      "execution_count": null,
      "metadata": {
        "id": "E25am4Hqfo2o"
      },
      "outputs": [],
      "source": [
        "from sklearn.metrics import classification_report"
      ]
    },
    {
      "cell_type": "code",
      "execution_count": null,
      "metadata": {
        "id": "gTYfX2DLfo2o"
      },
      "outputs": [],
      "source": [
        "print(classification_report(y_pred_df.actual, y_pred_df.predicted))"
      ]
    },
    {
      "cell_type": "markdown",
      "metadata": {
        "id": "c360_fhvfo2o"
      },
      "source": [
        "## Dealing with imbalnce data: Class Weights\n",
        "\n",
        "Note: Discuss the loss function for the logistic regression"
      ]
    },
    {
      "cell_type": "code",
      "execution_count": null,
      "metadata": {
        "id": "EFpKZX2dfo2o"
      },
      "outputs": [],
      "source": [
        "from sklearn.utils.class_weight import compute_class_weight"
      ]
    },
    {
      "cell_type": "code",
      "execution_count": null,
      "metadata": {
        "id": "O7VI97mwfo2o"
      },
      "outputs": [],
      "source": [
        "class_weights = compute_class_weight(class_weight= 'balanced',\n",
        "                                     classes = np.unique(y_train),\n",
        "                                     y = y_train)"
      ]
    },
    {
      "cell_type": "code",
      "execution_count": null,
      "metadata": {
        "id": "8J44f2Safo2o"
      },
      "outputs": [],
      "source": [
        "class_weights"
      ]
    },
    {
      "cell_type": "code",
      "execution_count": null,
      "metadata": {
        "id": "WS_fJ4wCfo2o"
      },
      "outputs": [],
      "source": [
        "class_weights_dict = dict(zip(np.unique(X_train), class_weights))\n",
        "class_weights_dict"
      ]
    },
    {
      "cell_type": "code",
      "execution_count": null,
      "metadata": {
        "id": "8TV8Z3otfo2o"
      },
      "outputs": [],
      "source": [
        "balanced_logreg_v2 = LogisticRegression(random_state=100, max_iter=1000, class_weight=class_weights_dict)"
      ]
    },
    {
      "cell_type": "code",
      "execution_count": null,
      "metadata": {
        "id": "2T-VotkDfo2o"
      },
      "outputs": [],
      "source": [
        "balanced_logreg_v2.fit(X_train, y_train)"
      ]
    },
    {
      "cell_type": "code",
      "execution_count": null,
      "metadata": {
        "id": "QzcjGJA9fo2o"
      },
      "outputs": [],
      "source": [
        "y_pred_v2 = balanced_logreg_v2.predict(X_test)"
      ]
    },
    {
      "cell_type": "code",
      "execution_count": null,
      "metadata": {
        "id": "0ZzriVX3fo2o"
      },
      "outputs": [],
      "source": [
        "cm_v2 = confusion_matrix(y_test, y_pred_v2, labels= [1, 0])"
      ]
    },
    {
      "cell_type": "code",
      "execution_count": null,
      "metadata": {
        "id": "jirkS22Lfo2p"
      },
      "outputs": [],
      "source": [
        "cm_plot = ConfusionMatrixDisplay(confusion_matrix=cm_v2,\n",
        "                                 display_labels=['Bad Credit', 'Good Credit'])\n",
        "cm_plot.plot();"
      ]
    },
    {
      "cell_type": "code",
      "execution_count": null,
      "metadata": {
        "id": "LJHQE041fo2p"
      },
      "outputs": [],
      "source": [
        "print(classification_report(y_test, y_pred_v2))"
      ]
    },
    {
      "cell_type": "markdown",
      "metadata": {
        "id": "l1J6lj3rfo2p"
      },
      "source": [
        "# Decision Tree Model"
      ]
    },
    {
      "cell_type": "code",
      "execution_count": null,
      "metadata": {
        "id": "Tq45WTHVfo2p"
      },
      "outputs": [],
      "source": [
        "from sklearn.tree import DecisionTreeClassifier"
      ]
    },
    {
      "cell_type": "code",
      "execution_count": null,
      "metadata": {
        "id": "3ir3S_66fo2p"
      },
      "outputs": [],
      "source": [
        "tree_clf = DecisionTreeClassifier(max_depth=5,\n",
        "                                  criterion='gini',\n",
        "                                  class_weight=class_weights_dict)"
      ]
    },
    {
      "cell_type": "code",
      "execution_count": null,
      "metadata": {
        "id": "0-EnN7djfo2p"
      },
      "outputs": [],
      "source": [
        "tree_clf.fit(X_train, y_train)"
      ]
    },
    {
      "cell_type": "code",
      "execution_count": null,
      "metadata": {
        "id": "vpleBtolfo2p"
      },
      "outputs": [],
      "source": [
        "y_pred_dtrees = tree_clf.predict(X_test)"
      ]
    },
    {
      "cell_type": "code",
      "execution_count": null,
      "metadata": {
        "id": "0Xx0p7tKfo2p"
      },
      "outputs": [],
      "source": [
        "cm_tree = confusion_matrix(y_test, y_pred_dtrees, labels=[1, 0])"
      ]
    },
    {
      "cell_type": "code",
      "execution_count": null,
      "metadata": {
        "id": "5HwdjzJ7fo2p"
      },
      "outputs": [],
      "source": [
        "cm_tree"
      ]
    },
    {
      "cell_type": "code",
      "execution_count": null,
      "metadata": {
        "id": "zKksIzapfo2p"
      },
      "outputs": [],
      "source": [
        "print(classification_report(y_test, y_pred_dtrees))"
      ]
    },
    {
      "cell_type": "code",
      "execution_count": null,
      "metadata": {
        "id": "OKPGH5jTfo2p"
      },
      "outputs": [],
      "source": [
        "from sklearn.tree import plot_tree"
      ]
    },
    {
      "cell_type": "code",
      "execution_count": null,
      "metadata": {
        "id": "OBSZNIl8fo2p"
      },
      "outputs": [],
      "source": [
        "plt.figure(figsize = (50, 12))\n",
        "plot_tree(tree_clf,\n",
        "          feature_names = X_test.columns,\n",
        "          class_names = ['Good Credit', 'Bad Credit'],\n",
        "          filled = True,\n",
        "          max_depth=3,\n",
        "          fontsize = 10);\n",
        "plt.savefig('tree.png')"
      ]
    },
    {
      "cell_type": "markdown",
      "metadata": {
        "id": "ZIYUm5kffo2p"
      },
      "source": [
        "## Participant Exercise:\n",
        "\n",
        "1. Increase the max_depth to 7 and check if it gives better recall value.\n",
        "2. Set criteria to gini and verify if it gives better recall value."
      ]
    },
    {
      "cell_type": "markdown",
      "source": [
        "## Hyperparameter Tuning for Decision Tree"
      ],
      "metadata": {
        "id": "7MJw1A7htVHO"
      }
    },
    {
      "cell_type": "code",
      "source": [
        "params_grid = { \"max_depth\": [3, 5, 7] }"
      ],
      "metadata": {
        "id": "rZC0ymkPnrWX"
      },
      "execution_count": null,
      "outputs": []
    },
    {
      "cell_type": "code",
      "source": [
        "from sklearn.model_selection import GridSearchCV"
      ],
      "metadata": {
        "id": "unmU6F8An3iR"
      },
      "execution_count": null,
      "outputs": []
    },
    {
      "cell_type": "code",
      "source": [
        "tree_grid = GridSearchCV(DecisionTreeClassifier(class_weight=class_weights_dict),\n",
        "                         param_grid = params_grid,\n",
        "                         cv = 5,\n",
        "                         scoring = 'recall')"
      ],
      "metadata": {
        "id": "lW_OE8Usn7kL"
      },
      "execution_count": null,
      "outputs": []
    },
    {
      "cell_type": "code",
      "source": [
        "tree_grid.fit(X_train, y_train)"
      ],
      "metadata": {
        "id": "JFJ3u7qGpfL3"
      },
      "execution_count": null,
      "outputs": []
    },
    {
      "cell_type": "code",
      "source": [
        "tree_grid.best_params_"
      ],
      "metadata": {
        "id": "VHWEEsSRpsTZ"
      },
      "execution_count": null,
      "outputs": []
    },
    {
      "cell_type": "code",
      "source": [
        "tree_grid.best_score_"
      ],
      "metadata": {
        "id": "d1f2lgNEpgNc"
      },
      "execution_count": null,
      "outputs": []
    },
    {
      "cell_type": "markdown",
      "metadata": {
        "id": "Sr6BBtRtfo2p"
      },
      "source": [
        "## Explain the concept of underfitting and overfitting"
      ]
    },
    {
      "cell_type": "markdown",
      "metadata": {
        "id": "PkFZuj4mfo2p"
      },
      "source": [
        "### Feature Importance"
      ]
    },
    {
      "cell_type": "code",
      "execution_count": null,
      "metadata": {
        "id": "X0MLSS2ofo2p"
      },
      "outputs": [],
      "source": [
        "tree_clf.feature_importances_"
      ]
    },
    {
      "cell_type": "code",
      "execution_count": null,
      "metadata": {
        "id": "jijrLzQ8fo2p"
      },
      "outputs": [],
      "source": [
        "feature_imp_df = pd.DataFrame({'features': X_train.columns,\n",
        "                               'importance': tree_clf.feature_importances_})"
      ]
    },
    {
      "cell_type": "code",
      "execution_count": null,
      "metadata": {
        "id": "5XXYeRozfo2p"
      },
      "outputs": [],
      "source": [
        "feature_imp_df = feature_imp_df.sort_values(\"importance\", ascending = False)\n",
        "feature_imp_df"
      ]
    },
    {
      "cell_type": "code",
      "execution_count": null,
      "metadata": {
        "id": "qYD9VXEUfo2p"
      },
      "outputs": [],
      "source": [
        "feature_imp_df[0:10]"
      ]
    },
    {
      "cell_type": "markdown",
      "metadata": {
        "id": "_tjd_xlGfo2p"
      },
      "source": [
        "| Variable | Variable Type| Description | Categories |\n",
        "| :----------| :-------------- |:--------------| :--------------|\n",
        "|checkin_acc| categorical | Status of existing checking account | <ul><li> A11 : ... < 0 DM </li><li> A12 : 0 <= ... < 200 DM </li><li> A13 : ... >= 200 DM / salary assignments for at least 1 year </li><li> A14 : no checking account </li></ul>|\n",
        "|duration| numerical | Duration | |\n",
        "|credit_history| categorical | Credit History | <ul><li>A30 : no credits taken/ all credits paid back duly </li><li>A31 : all credits at this bank paid back duly </li><li>A32 : existing credits paid back duly till now </li><li>A33 : delay in paying off in the past </li><li>A34 : critical account/ other credits existing (not at this bank) </li></ul>|\n",
        "|amount| numerical | Credit amount | |\n",
        "|savings_acc| Categorical | Savings account/bonds | <ul><li>A61 : ... < 100 DM </li><li>A62 : 100 <= ... < 500 DM </li><li>A63 : 500 <= ... < 1000 DM </li><li>A64 : .. >= 1000 DM </li><li>A65 : unknown/ no savings account </li></ul>|\n",
        "|present_emp_since| Categorical | Present employment since | <ul><li>A71 : unemployed </li><li>A72 : ... < 1 year </li><li>A73 : 1 <= ... < 4 years </li><li>A74 : 4 <= ... < 7 years </li><li>A75 : .. >= 7 years </li></ul>|\n",
        "|inst_rate| numerical | Installment rate in percentage of disposable income  | |\n",
        "|personal_status| Categorical | Personal status and sex | <ul><li>A91 : male : divorced/separated </li><li>A92 : female : divorced/separated/married </li><li>A93 : male : single </li><li>A94 : male : married/widowed </li><li>A95 : female : single </li></ul>|\n",
        "|residing_since| numerical | residing since in years | |\n",
        "|age| numerical | age in years | |\n",
        "|inst_plans| categorical | Other installment plans | <ul><li>A141 : bank </li><li>A142 : stores </li><li>A143 : none </li></ul> |\n",
        "|num_credits| Categorical | Number of existing credits at this bank | <ul><li> A11 : ... < 0 DM </li><li> A12 : 0 <= ... < 200 DM </li><li> A13 : ... >= 200 DM / salary assignments for at least 1 year </li><li> A14 : no checking account </li></ul>|\n",
        "|job| categorical | job | <ul><li>A171 : unemployed/ unskilled - non-resident </li><li>A172 : unskilled - resident </li><li>A173 : skilled employee / official </li> <li>A174 : management/ self-employed/highly qualified employee/ officer </li> </ul> |\n",
        "|status| categorical | Credit status | <ul><li> 0: Good Credit </li><li> 1: Bad Credit </li></ul>|"
      ]
    },
    {
      "cell_type": "markdown",
      "metadata": {
        "id": "eVLNIhx9fo2p"
      },
      "source": [
        "## Finding Optimal Cutoff Probability for Bad Credits"
      ]
    },
    {
      "cell_type": "markdown",
      "metadata": {
        "id": "gwz1spWxfo2p"
      },
      "source": [
        "### Find optimal cutoff probability using cost"
      ]
    },
    {
      "cell_type": "code",
      "execution_count": null,
      "metadata": {
        "id": "dU4JeJIgfo2q"
      },
      "outputs": [],
      "source": [
        "tree_clf.predict_proba(X_test)[0:10]"
      ]
    },
    {
      "cell_type": "code",
      "execution_count": null,
      "metadata": {
        "id": "pgU2NPFDfo2q"
      },
      "outputs": [],
      "source": [
        "y_pred_tree_df = pd.DataFrame( { \"actual\": y_test,\n",
        "                                 \"predicted\": y_pred_dtrees } )"
      ]
    },
    {
      "cell_type": "code",
      "execution_count": null,
      "metadata": {
        "id": "Y8MgNZ9bfo2q"
      },
      "outputs": [],
      "source": [
        "y_pred_tree_df['pred_probs'] = tree_clf.predict_proba(X_test)[:, 1]"
      ]
    },
    {
      "cell_type": "code",
      "execution_count": null,
      "metadata": {
        "id": "5RPOVYBNfo2q"
      },
      "outputs": [],
      "source": [
        "y_pred_tree_df.sample(10)"
      ]
    },
    {
      "cell_type": "code",
      "execution_count": null,
      "metadata": {
        "id": "7020-dEvfo2q"
      },
      "outputs": [],
      "source": [
        "y_pred_tree_df['predicted_new'] = y_pred_tree_df.pred_probs.map(lambda x: 1 if x > 0.5 else 0)"
      ]
    },
    {
      "cell_type": "code",
      "execution_count": null,
      "metadata": {
        "id": "ocB8yqbufo2q"
      },
      "outputs": [],
      "source": [
        "cm_1 = confusion_matrix( y_pred_tree_df.actual, y_pred_tree_df.predicted_new, labels = [1,0] )"
      ]
    },
    {
      "cell_type": "code",
      "execution_count": null,
      "metadata": {
        "id": "3Pb_h9Q0fo2q"
      },
      "outputs": [],
      "source": [
        "cm_1"
      ]
    },
    {
      "cell_type": "code",
      "execution_count": null,
      "metadata": {
        "id": "drHAntMmfo2q"
      },
      "outputs": [],
      "source": [
        "cm_1[1, 0] # false positives"
      ]
    },
    {
      "cell_type": "code",
      "execution_count": null,
      "metadata": {
        "id": "3ePdI3hifo2q"
      },
      "outputs": [],
      "source": [
        "cm_1[0, 1] # false negatives"
      ]
    },
    {
      "cell_type": "code",
      "execution_count": null,
      "metadata": {
        "id": "t_lozsVxfo2q"
      },
      "outputs": [],
      "source": [
        "def get_total_cost( actual, predicted ):\n",
        "    cm_mat = confusion_matrix( actual, predicted, labels = [1,0] )\n",
        "    return cm_mat[0,1] * 3 + cm_mat[1,0] * 1"
      ]
    },
    {
      "cell_type": "code",
      "execution_count": null,
      "metadata": {
        "id": "BUq6HPvAfo2q"
      },
      "outputs": [],
      "source": [
        "get_total_cost( y_pred_tree_df.actual, y_pred_tree_df.predicted_new )"
      ]
    },
    {
      "cell_type": "code",
      "execution_count": null,
      "metadata": {
        "id": "02TNHU02fo2q"
      },
      "outputs": [],
      "source": [
        "cost_df = pd.DataFrame( columns = ['prob', 'cost'])"
      ]
    },
    {
      "cell_type": "code",
      "execution_count": null,
      "metadata": {
        "id": "E5fSCWcBfo2q"
      },
      "outputs": [],
      "source": [
        "cutoff_probs = np.arange(0, 1, 0.05)"
      ]
    },
    {
      "cell_type": "code",
      "execution_count": null,
      "metadata": {
        "id": "Evun1KHwfo2q"
      },
      "outputs": [],
      "source": [
        "idx = 0\n",
        "for cutoff in cutoff_probs:\n",
        "    cost = get_total_cost(y_pred_tree_df.actual,\n",
        "                          y_pred_tree_df.pred_probs.map(lambda x: 1 if x > cutoff  else 0))\n",
        "    cost_df.loc[idx] = [cutoff, cost]\n",
        "    idx += 1"
      ]
    },
    {
      "cell_type": "code",
      "execution_count": null,
      "metadata": {
        "id": "G6O3UCHhfo2q"
      },
      "outputs": [],
      "source": [
        "cost_df.sort_values( 'cost', ascending = True )[0:5]"
      ]
    },
    {
      "cell_type": "code",
      "execution_count": null,
      "metadata": {
        "id": "wUl9-3MDfo2q"
      },
      "outputs": [],
      "source": [
        "y_pred_tree_df['predicted_final'] = y_pred_tree_df.pred_probs.map( lambda x: 1 if x > 0.45 else 0)"
      ]
    },
    {
      "cell_type": "code",
      "execution_count": null,
      "metadata": {
        "id": "4aQ_79JNfo2q"
      },
      "outputs": [],
      "source": [
        "cm_tree_v2 = confusion_matrix(y_pred_tree_df.actual,\n",
        "                              y_pred_tree_df.predicted_final, labels= [1, 0])"
      ]
    },
    {
      "cell_type": "code",
      "execution_count": null,
      "metadata": {
        "id": "xdVej_xNfo2q"
      },
      "outputs": [],
      "source": [
        "cm_plot = ConfusionMatrixDisplay(confusion_matrix=cm_tree_v2,\n",
        "                                 display_labels=['Bad Credit',\n",
        "                                                 'Good Credit'])\n",
        "cm_plot.plot();"
      ]
    },
    {
      "cell_type": "code",
      "execution_count": null,
      "metadata": {
        "id": "3t2lXVP4fo2q"
      },
      "outputs": [],
      "source": [
        "print(classification_report(y_pred_tree_df.actual, y_pred_tree_df.predicted_final))"
      ]
    },
    {
      "cell_type": "markdown",
      "source": [
        "## Random Forest Classifier"
      ],
      "metadata": {
        "id": "MUXZOYe2qoUQ"
      }
    },
    {
      "cell_type": "code",
      "source": [
        "from sklearn.ensemble import RandomForestClassifier"
      ],
      "metadata": {
        "id": "CXTKhQdkqq0N"
      },
      "execution_count": null,
      "outputs": []
    },
    {
      "cell_type": "code",
      "source": [
        "rf_model = RandomForestClassifier(n_estimators = 50,\n",
        "                                  max_features = 7,\n",
        "                                  criterion='gini',\n",
        "                                  max_depth = 5,\n",
        "                                  class_weight = class_weights_dict)\n",
        "\n",
        "rf_model.fit(X_train,y_train);"
      ],
      "metadata": {
        "id": "9xuCKmRvqy0m"
      },
      "execution_count": null,
      "outputs": []
    },
    {
      "cell_type": "code",
      "source": [
        "y_pred_rf = rf_model.predict(X_test)"
      ],
      "metadata": {
        "id": "-1HB4mtXq0gh"
      },
      "execution_count": null,
      "outputs": []
    },
    {
      "cell_type": "code",
      "source": [
        "print(classification_report(y_test, y_pred_rf))"
      ],
      "metadata": {
        "id": "7kI3AjxWrZVi"
      },
      "execution_count": null,
      "outputs": []
    },
    {
      "cell_type": "code",
      "source": [
        "# Number of trees in random forest\n",
        "\n",
        "n_estimators = [50, 100, 200]\n",
        "# Maximum number of levels in tree\n",
        "max_depth = [5, 7, 9, 11]\n",
        "\n",
        "#max_depth.append(None)\n",
        "# Number of features to consider at every split\n",
        "\n",
        "max_features = [0.3, 0.5]\n",
        "criterion = ['gini']\n",
        "# Create the random grid\n",
        "\n",
        "random_grid = {'n_estimators': n_estimators,\n",
        "               'max_depth': max_depth,\n",
        "               'max_features': max_features,\n",
        "               'criterion' : criterion}\n",
        "\n",
        "random_grid\n",
        "\n"
      ],
      "metadata": {
        "id": "oOem7hX2raPo"
      },
      "execution_count": null,
      "outputs": []
    },
    {
      "cell_type": "code",
      "source": [
        "# Use the random grid to search for best hyperparameters\n",
        "from sklearn.model_selection import GridSearchCV\n",
        "\n",
        "rf_model = RandomForestClassifier(class_weight = class_weights_dict)\n",
        "\n",
        "# Random search of parameters, using 3 fold cross validation,\n",
        "rf_grid = GridSearchCV(estimator = rf_model,\n",
        "                       param_grid = random_grid,\n",
        "                       scoring = \"recall\",\n",
        "                       cv = 3,\n",
        "                       n_jobs = -1)"
      ],
      "metadata": {
        "id": "vPWDYpYErqST"
      },
      "execution_count": null,
      "outputs": []
    },
    {
      "cell_type": "code",
      "source": [
        "rf_grid.fit(X_train,y_train)"
      ],
      "metadata": {
        "id": "PPukTzfhrtXC"
      },
      "execution_count": null,
      "outputs": []
    },
    {
      "cell_type": "code",
      "source": [
        "rf_grid.best_score_"
      ],
      "metadata": {
        "id": "ToR03upOru4g"
      },
      "execution_count": null,
      "outputs": []
    },
    {
      "cell_type": "code",
      "source": [
        "rf_grid.best_params_"
      ],
      "metadata": {
        "id": "IwIlgOLAr8j4"
      },
      "execution_count": null,
      "outputs": []
    },
    {
      "cell_type": "code",
      "source": [
        "y_pred_rf = rf_grid.best_estimator_.predict(X_test)"
      ],
      "metadata": {
        "id": "Un5NHo_sr9jm"
      },
      "execution_count": null,
      "outputs": []
    },
    {
      "cell_type": "code",
      "source": [
        "print(classification_report(y_test, y_pred_rf))"
      ],
      "metadata": {
        "id": "1x2nxcGysC9E"
      },
      "execution_count": null,
      "outputs": []
    },
    {
      "cell_type": "code",
      "source": [
        "cm_rf_v2 = confusion_matrix(y_test, y_pred_rf, labels= [1, 0])"
      ],
      "metadata": {
        "id": "tXCqivVjsVxX"
      },
      "execution_count": null,
      "outputs": []
    },
    {
      "cell_type": "code",
      "source": [
        "cm_plot = ConfusionMatrixDisplay(confusion_matrix=cm_rf_v2,\n",
        "                                 display_labels=['Bad Credit',\n",
        "                                                 'Good Credit'])\n",
        "cm_plot.plot();"
      ],
      "metadata": {
        "id": "Bcy7WjI_sD7n"
      },
      "execution_count": null,
      "outputs": []
    }
  ],
  "metadata": {
    "anaconda-cloud": {},
    "kernelspec": {
      "display_name": "Python 3 (ipykernel)",
      "language": "python",
      "name": "python3"
    },
    "language_info": {
      "codemirror_mode": {
        "name": "ipython",
        "version": 3
      },
      "file_extension": ".py",
      "mimetype": "text/x-python",
      "name": "python",
      "nbconvert_exporter": "python",
      "pygments_lexer": "ipython3",
      "version": "3.10.9"
    },
    "colab": {
      "provenance": []
    }
  },
  "nbformat": 4,
  "nbformat_minor": 0
}